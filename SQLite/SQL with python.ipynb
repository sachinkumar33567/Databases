{
 "cells": [
  {
   "cell_type": "code",
   "execution_count": null,
   "id": "9fd1b541",
   "metadata": {},
   "outputs": [],
   "source": [
    "pip install pymysql"
   ]
  },
  {
   "cell_type": "raw",
   "id": "95bac68b",
   "metadata": {},
   "source": [
    "Collecting pymysqlNote: you may need to restart the kernel to use updated packages.\n",
    "\n",
    "  Downloading PyMySQL-1.0.2-py3-none-any.whl (43 kB)\n",
    "     ---------------------------------------- 43.8/43.8 kB 2.2 MB/s eta 0:00:00\n",
    "Installing collected packages: pymysql\n",
    "Successfully installed pymysql-1.0.2"
   ]
  },
  {
   "cell_type": "code",
   "execution_count": 1,
   "id": "86677795",
   "metadata": {},
   "outputs": [],
   "source": [
    "import pymysql"
   ]
  },
  {
   "cell_type": "code",
   "execution_count": 2,
   "id": "96986f1a",
   "metadata": {},
   "outputs": [
    {
     "data": {
      "text/plain": [
       "<pymysql.connections.Connection at 0x20b14590c10>"
      ]
     },
     "execution_count": 2,
     "metadata": {},
     "output_type": "execute_result"
    }
   ],
   "source": [
    "db = pymysql.connect(host='127.0.0.1', user='root', password='S@chin33567@mysql')\n",
    "db"
   ]
  },
  {
   "cell_type": "code",
   "execution_count": 3,
   "id": "c00f5e3b",
   "metadata": {},
   "outputs": [],
   "source": [
    "cur = db.cursor()"
   ]
  },
  {
   "cell_type": "code",
   "execution_count": 4,
   "id": "b1ebd862",
   "metadata": {},
   "outputs": [
    {
     "data": {
      "text/plain": [
       "(('classicmodels',),\n",
       " ('information_schema',),\n",
       " ('mysql',),\n",
       " ('performance_schema',),\n",
       " ('school',),\n",
       " ('sys',))"
      ]
     },
     "execution_count": 4,
     "metadata": {},
     "output_type": "execute_result"
    }
   ],
   "source": [
    "cur.execute('show databases')\n",
    "cur.fetchall()"
   ]
  },
  {
   "cell_type": "code",
   "execution_count": 5,
   "id": "839175a2",
   "metadata": {},
   "outputs": [
    {
     "data": {
      "text/plain": [
       "0"
      ]
     },
     "execution_count": 5,
     "metadata": {},
     "output_type": "execute_result"
    }
   ],
   "source": [
    "cur.execute('use school')"
   ]
  },
  {
   "cell_type": "code",
   "execution_count": 6,
   "id": "6f981c97",
   "metadata": {},
   "outputs": [
    {
     "data": {
      "text/plain": [
       "(('classdetails',), ('subjectdetails',), ('t1',), ('t2',), ('teacherdetails',))"
      ]
     },
     "execution_count": 6,
     "metadata": {},
     "output_type": "execute_result"
    }
   ],
   "source": [
    "cur.execute('show tables')\n",
    "cur.fetchall()"
   ]
  },
  {
   "cell_type": "code",
   "execution_count": 8,
   "id": "b5561539",
   "metadata": {},
   "outputs": [
    {
     "data": {
      "text/plain": [
       "((1, 10004), (2, 10005), (3, 10001), (4, 10002), (5, 10005))"
      ]
     },
     "execution_count": 8,
     "metadata": {},
     "output_type": "execute_result"
    }
   ],
   "source": [
    "cur.execute('select * from classdetails')\n",
    "cur.fetchall()"
   ]
  },
  {
   "cell_type": "code",
   "execution_count": 10,
   "id": "0909fd23",
   "metadata": {},
   "outputs": [
    {
     "data": {
      "text/plain": [
       "(('classId', 'int', 'YES', '', None, ''),\n",
       " ('classTeacherId', 'int', 'YES', '', None, ''))"
      ]
     },
     "execution_count": 10,
     "metadata": {},
     "output_type": "execute_result"
    }
   ],
   "source": [
    "cur.execute('desc classdetails')\n",
    "cur.fetchall()"
   ]
  },
  {
   "cell_type": "code",
   "execution_count": 11,
   "id": "32ef81e9",
   "metadata": {},
   "outputs": [
    {
     "data": {
      "text/plain": [
       "1"
      ]
     },
     "execution_count": 11,
     "metadata": {},
     "output_type": "execute_result"
    }
   ],
   "source": [
    "cur.execute('insert into classdetails values(6, 10008)')"
   ]
  },
  {
   "cell_type": "code",
   "execution_count": 18,
   "id": "0b174aa5",
   "metadata": {},
   "outputs": [
    {
     "data": {
      "text/plain": [
       "((1, 10004), (2, 10005), (3, 10001), (4, 10002), (5, 10005), (6, 10008))"
      ]
     },
     "execution_count": 18,
     "metadata": {},
     "output_type": "execute_result"
    }
   ],
   "source": [
    "cur.execute('select * from classdetails')\n",
    "cur.fetchall()"
   ]
  },
  {
   "cell_type": "code",
   "execution_count": 19,
   "id": "bdb89056",
   "metadata": {},
   "outputs": [
    {
     "data": {
      "text/plain": [
       "1"
      ]
     },
     "execution_count": 19,
     "metadata": {},
     "output_type": "execute_result"
    }
   ],
   "source": [
    "cur.execute('update classdetails set classTeacherId = 10007 where classId = 5')"
   ]
  },
  {
   "cell_type": "code",
   "execution_count": 20,
   "id": "6e326d02",
   "metadata": {},
   "outputs": [
    {
     "data": {
      "text/plain": [
       "((1, 10004), (2, 10005), (3, 10001), (4, 10002), (5, 10007), (6, 10008))"
      ]
     },
     "execution_count": 20,
     "metadata": {},
     "output_type": "execute_result"
    }
   ],
   "source": [
    "cur.execute('select * from classdetails')\n",
    "cur.fetchall()"
   ]
  },
  {
   "cell_type": "code",
   "execution_count": 22,
   "id": "9b396a8e",
   "metadata": {},
   "outputs": [],
   "source": [
    "def run(query):\n",
    "    cur.execute(query)\n",
    "    return cur.fetchall()"
   ]
  },
  {
   "cell_type": "code",
   "execution_count": 23,
   "id": "a1b3058b",
   "metadata": {},
   "outputs": [
    {
     "data": {
      "text/plain": [
       "(('classdetails',), ('subjectdetails',), ('t1',), ('t2',), ('teacherdetails',))"
      ]
     },
     "execution_count": 23,
     "metadata": {},
     "output_type": "execute_result"
    }
   ],
   "source": [
    "run('show tables')"
   ]
  },
  {
   "cell_type": "code",
   "execution_count": 24,
   "id": "7502343e",
   "metadata": {},
   "outputs": [
    {
     "data": {
      "text/plain": [
       "(('id', 'varchar(100)', 'YES', '', None, ''),\n",
       " ('name', 'varchar(100)', 'YES', '', None, ''),\n",
       " ('totalStudents', 'int', 'YES', '', None, ''))"
      ]
     },
     "execution_count": 24,
     "metadata": {},
     "output_type": "execute_result"
    }
   ],
   "source": [
    "run('desc subjectdetails')"
   ]
  },
  {
   "cell_type": "code",
   "execution_count": 25,
   "id": "2c16f681",
   "metadata": {},
   "outputs": [
    {
     "data": {
      "text/plain": [
       "(('E403', 'English', 34),\n",
       " ('H009', 'Hindi', 12),\n",
       " ('X067', 'Sanskrit', 24),\n",
       " ('M702', 'Maths', 45))"
      ]
     },
     "execution_count": 25,
     "metadata": {},
     "output_type": "execute_result"
    }
   ],
   "source": [
    "run('select * from subjectdetails')"
   ]
  },
  {
   "cell_type": "code",
   "execution_count": 26,
   "id": "64a5bf5a",
   "metadata": {},
   "outputs": [
    {
     "name": "stdout",
     "output_type": "stream",
     "text": [
      "E403 English 34\n",
      "H009 Hindi 12\n",
      "X067 Sanskrit 24\n",
      "M702 Maths 45\n"
     ]
    }
   ],
   "source": [
    "data = run('select * from subjectdetails')\n",
    "for Id, name, totalStundets in data:\n",
    "    print(Id, name, totalStundets)"
   ]
  },
  {
   "cell_type": "code",
   "execution_count": null,
   "id": "5018cf3e",
   "metadata": {},
   "outputs": [],
   "source": []
  }
 ],
 "metadata": {
  "kernelspec": {
   "display_name": "Python 3 (ipykernel)",
   "language": "python",
   "name": "python3"
  },
  "language_info": {
   "codemirror_mode": {
    "name": "ipython",
    "version": 3
   },
   "file_extension": ".py",
   "mimetype": "text/x-python",
   "name": "python",
   "nbconvert_exporter": "python",
   "pygments_lexer": "ipython3",
   "version": "3.9.13"
  }
 },
 "nbformat": 4,
 "nbformat_minor": 5
}
